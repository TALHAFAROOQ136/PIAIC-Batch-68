{
  "cells": [
    {
      "cell_type": "markdown",
      "metadata": {
        "id": "view-in-github",
        "colab_type": "text"
      },
      "source": [
        "<a href=\"https://colab.research.google.com/github/TALHAFAROOQ136/PIAIC-Batch-68/blob/main/class3_practice.ipynb\" target=\"_parent\"><img src=\"https://colab.research.google.com/assets/colab-badge.svg\" alt=\"Open In Colab\"/></a>"
      ]
    },
    {
      "cell_type": "markdown",
      "metadata": {
        "id": "EzxuellQ7zOX"
      },
      "source": [
        "# Escape character"
      ]
    },
    {
      "cell_type": "code",
      "execution_count": null,
      "metadata": {
        "colab": {
          "base_uri": "https://localhost:8080/"
        },
        "id": "OdEgwdM70r7f",
        "outputId": "d26ff0c2-4b25-4b1d-8ab3-23154fbeeb42"
      },
      "outputs": [
        {
          "name": "stdout",
          "output_type": "stream",
          "text": [
            "hello i\n",
            " am fine\n"
          ]
        }
      ],
      "source": [
        "# \\n insert new line\n",
        "radiology = \"hello i\\n am fine\"\n",
        "print(radiology)"
      ]
    },
    {
      "cell_type": "code",
      "execution_count": null,
      "metadata": {
        "colab": {
          "base_uri": "https://localhost:8080/"
        },
        "id": "F15kNZY_8VAv",
        "outputId": "be890c59-6a33-463d-e82b-71c161d02696"
      },
      "outputs": [
        {
          "name": "stdout",
          "output_type": "stream",
          "text": [
            "hello i\\ am fine\n"
          ]
        }
      ],
      "source": [
        "# \\\\ double backlash for show one backlash\n",
        "radiology = \"hello i\\\\ am fine\"\n",
        "print(radiology)"
      ]
    },
    {
      "cell_type": "code",
      "execution_count": null,
      "metadata": {
        "colab": {
          "base_uri": "https://localhost:8080/"
        },
        "id": "UBfxxP668jFt",
        "outputId": "c9fa468d-6e7d-4bdc-80d0-654c44d58658"
      },
      "outputs": [
        {
          "name": "stdout",
          "output_type": "stream",
          "text": [
            "hello i\r am fine\n"
          ]
        }
      ],
      "source": [
        "# \\r (Carriage Return) move the cursor to the start of the line\n",
        "radiology = \"hello i\\r am fine\"\n",
        "print(radiology)"
      ]
    },
    {
      "cell_type": "code",
      "execution_count": null,
      "metadata": {
        "colab": {
          "base_uri": "https://localhost:8080/"
        },
        "id": "vzokIm5p97dC",
        "outputId": "3a88d8ce-5a56-41b7-cb18-85792adbccf5"
      },
      "outputs": [
        {
          "name": "stdout",
          "output_type": "stream",
          "text": [
            "hello\n",
            " \t i am fine\n"
          ]
        }
      ],
      "source": [
        "# \\t for tab\n",
        "radiology = \"hello\\n \\t i am fine\"\n",
        "print(radiology)"
      ]
    },
    {
      "cell_type": "code",
      "execution_count": null,
      "metadata": {
        "colab": {
          "base_uri": "https://localhost:8080/"
        },
        "id": "UU0vG2Qh-Lx4",
        "outputId": "25a43ff3-e738-40c4-d122-84460aeed73e"
      },
      "outputs": [
        {
          "name": "stdout",
          "output_type": "stream",
          "text": [
            "hello i' am fine\n"
          ]
        }
      ],
      "source": [
        "# \\' single quote\n",
        "radiology = \"hello i\\' am fine\"\n",
        "print(radiology)"
      ]
    },
    {
      "cell_type": "code",
      "execution_count": null,
      "metadata": {
        "colab": {
          "base_uri": "https://localhost:8080/"
        },
        "id": "Pz3cMxVI-h1A",
        "outputId": "1c928cf1-026c-4bb8-cbae-09b02d8f1325"
      },
      "outputs": [
        {
          "name": "stdout",
          "output_type": "stream",
          "text": [
            "hello i\" am fine\n"
          ]
        }
      ],
      "source": [
        "# double qoute\n",
        "radiology = \"hello i\\\" am fine\"\n",
        "print(radiology)"
      ]
    },
    {
      "cell_type": "code",
      "execution_count": null,
      "metadata": {
        "colab": {
          "base_uri": "https://localhost:8080/"
        },
        "id": "_bGn1lD5-oYu",
        "outputId": "4d32c062-29a0-474f-b098-6c9879386eb9"
      },
      "outputs": [
        {
          "name": "stdout",
          "output_type": "stream",
          "text": [
            "hello i \b am fine\n"
          ]
        }
      ],
      "source": [
        "# \\b backspace\n",
        "radiology = \"hello i \\b am fine\"\n",
        "print(radiology)"
      ]
    },
    {
      "cell_type": "code",
      "execution_count": null,
      "metadata": {
        "colab": {
          "base_uri": "https://localhost:8080/"
        },
        "id": "X9GYlq9v_qvt",
        "outputId": "014e369c-760c-46a8-bd17-5d77617f7e0f"
      },
      "outputs": [
        {
          "name": "stdout",
          "output_type": "stream",
          "text": [
            "hello i \u0007 am fine\n"
          ]
        }
      ],
      "source": [
        "# \\a beep\n",
        "radiology = \"hello i\\a am fine\"\n",
        "print(radiology)"
      ]
    },
    {
      "cell_type": "code",
      "execution_count": null,
      "metadata": {
        "colab": {
          "base_uri": "https://localhost:8080/"
        },
        "id": "u21CjWm3AK3J",
        "outputId": "b16840b6-f902-4018-9a15-4b1a953974b9"
      },
      "outputs": [
        {
          "name": "stdout",
          "output_type": "stream",
          "text": [
            "\u000bhello i am fine\n"
          ]
        }
      ],
      "source": [
        "radiology = \"\\vhello i am fine\"\n",
        "print(radiology)"
      ]
    },
    {
      "cell_type": "markdown",
      "metadata": {
        "id": "tu6_ijneBAXy"
      },
      "source": [
        "# String Multiplication"
      ]
    },
    {
      "cell_type": "code",
      "execution_count": null,
      "metadata": {
        "colab": {
          "base_uri": "https://localhost:8080/"
        },
        "id": "xWtncYSTBCpx",
        "outputId": "05989cfa-eecc-4e7d-f9f6-7a2a2b4014ee"
      },
      "outputs": [
        {
          "name": "stdout",
          "output_type": "stream",
          "text": [
            "hi TalhaTalhaTalha\n"
          ]
        }
      ],
      "source": [
        "# students = \"Talha\" * 3\n",
        "# print(students)\n",
        "students =\"Talha\"\n",
        "print(\"hi\", students *3)"
      ]
    },
    {
      "cell_type": "code",
      "execution_count": null,
      "metadata": {
        "colab": {
          "base_uri": "https://localhost:8080/"
        },
        "id": "x8VjOqebCYaf",
        "outputId": "b4011f22-c8fb-4a48-c0e9-b22fbd6cac3d"
      },
      "outputs": [
        {
          "name": "stdout",
          "output_type": "stream",
          "text": [
            "hi Talha Talha Talha \n"
          ]
        }
      ],
      "source": [
        "students = \"Talha\"\n",
        "print(\"hi\", (students + ' ') *3 )"
      ]
    },
    {
      "cell_type": "markdown",
      "metadata": {
        "id": "lmairgSTC7qa"
      },
      "source": [
        "# Importance of builtin methods"
      ]
    },
    {
      "cell_type": "code",
      "execution_count": null,
      "metadata": {
        "colab": {
          "base_uri": "https://localhost:8080/"
        },
        "id": "O1bxzhwNC89k",
        "outputId": "160a9b6e-9f92-4671-f032-c5f399415c2c"
      },
      "outputs": [
        {
          "name": "stdout",
          "output_type": "stream",
          "text": [
            "What is your name:TALHA\n",
            "talha\n"
          ]
        }
      ],
      "source": [
        "students = input(\"What is your name:\")\n",
        "print(f\"{students.lower()}\")"
      ]
    },
    {
      "cell_type": "markdown",
      "source": [
        "# String Methods"
      ],
      "metadata": {
        "id": "rLdYMEiFrhQ5"
      }
    },
    {
      "cell_type": "code",
      "execution_count": null,
      "metadata": {
        "colab": {
          "base_uri": "https://localhost:8080/"
        },
        "id": "ABit4BZSEZLB",
        "outputId": "84c09fce-4398-400c-9169-2ac69dca3a5f"
      },
      "outputs": [
        {
          "data": {
            "text/plain": [
              "['__abs__',\n",
              " '__add__',\n",
              " '__and__',\n",
              " '__bool__',\n",
              " '__ceil__',\n",
              " '__class__',\n",
              " '__delattr__',\n",
              " '__dir__',\n",
              " '__divmod__',\n",
              " '__doc__',\n",
              " '__eq__',\n",
              " '__float__',\n",
              " '__floor__',\n",
              " '__floordiv__',\n",
              " '__format__',\n",
              " '__ge__',\n",
              " '__getattribute__',\n",
              " '__getnewargs__',\n",
              " '__gt__',\n",
              " '__hash__',\n",
              " '__index__',\n",
              " '__init__',\n",
              " '__init_subclass__',\n",
              " '__int__',\n",
              " '__invert__',\n",
              " '__le__',\n",
              " '__lshift__',\n",
              " '__lt__',\n",
              " '__mod__',\n",
              " '__mul__',\n",
              " '__ne__',\n",
              " '__neg__',\n",
              " '__new__',\n",
              " '__or__',\n",
              " '__pos__',\n",
              " '__pow__',\n",
              " '__radd__',\n",
              " '__rand__',\n",
              " '__rdivmod__',\n",
              " '__reduce__',\n",
              " '__reduce_ex__',\n",
              " '__repr__',\n",
              " '__rfloordiv__',\n",
              " '__rlshift__',\n",
              " '__rmod__',\n",
              " '__rmul__',\n",
              " '__ror__',\n",
              " '__round__',\n",
              " '__rpow__',\n",
              " '__rrshift__',\n",
              " '__rshift__',\n",
              " '__rsub__',\n",
              " '__rtruediv__',\n",
              " '__rxor__',\n",
              " '__setattr__',\n",
              " '__sizeof__',\n",
              " '__str__',\n",
              " '__sub__',\n",
              " '__subclasshook__',\n",
              " '__truediv__',\n",
              " '__trunc__',\n",
              " '__xor__',\n",
              " 'as_integer_ratio',\n",
              " 'bit_count',\n",
              " 'bit_length',\n",
              " 'conjugate',\n",
              " 'denominator',\n",
              " 'from_bytes',\n",
              " 'imag',\n",
              " 'numerator',\n",
              " 'real',\n",
              " 'to_bytes']"
            ]
          },
          "execution_count": 55,
          "metadata": {},
          "output_type": "execute_result"
        }
      ],
      "source": [
        "name =\"Talha\"\n",
        "dir(len(name))"
      ]
    },
    {
      "cell_type": "markdown",
      "metadata": {
        "id": "L5LXZryWbu9-"
      },
      "source": [
        "## **1. Whitespace Manipulation:**\n",
        "- `strip`, `lstrip`, `rstrip`"
      ]
    },
    {
      "cell_type": "code",
      "execution_count": null,
      "metadata": {
        "colab": {
          "base_uri": "https://localhost:8080/"
        },
        "id": "xYKiyQL9IKZv",
        "outputId": "6861158d-1388-4000-fdcd-9ef81851aad4"
      },
      "outputs": [
        {
          "name": "stdout",
          "output_type": "stream",
          "text": [
            "hi am a doctor how are your i am fine\n",
            "                 hi am a doctor how are your i am fine\n",
            "hi am a doctor how are your i am fine\n"
          ]
        }
      ],
      "source": [
        "# 1. White space manipulation\n",
        "# strip, lstrip, rstrip\n",
        "students1 = \"                 hi am a doctor how are your i am fine\"\n",
        "print(students1.strip())\n",
        "print(students1.rstrip())\n",
        "print(students1.lstrip())"
      ]
    },
    {
      "cell_type": "markdown",
      "metadata": {
        "id": "bOdboarWb1x6"
      },
      "source": [
        "## **2. String Formatting:**\n",
        "- `format`, `format_map`"
      ]
    },
    {
      "cell_type": "code",
      "execution_count": null,
      "metadata": {
        "colab": {
          "base_uri": "https://localhost:8080/"
        },
        "id": "qrmxRli-MQdv",
        "outputId": "b1efecc4-711a-4f39-f73b-4edb0772dd44"
      },
      "outputs": [
        {
          "name": "stdout",
          "output_type": "stream",
          "text": [
            "How are you Talha\n",
            "How are you? Talha\n",
            "I \b'm fine Talha\n"
          ]
        }
      ],
      "source": [
        "# 2. string Formatting\n",
        "# foramt, format_map\n",
        "\n",
        "# (i) format\n",
        "students = \"How are you {}\"\n",
        "print(students.format(\"Talha\"))\n",
        "students2= input(\"How are you? \")\n",
        "print(\"I \\b\\'m fine {}\".format(students2))"
      ]
    },
    {
      "cell_type": "code",
      "execution_count": null,
      "metadata": {
        "colab": {
          "base_uri": "https://localhost:8080/"
        },
        "id": "5e4Ezs5VaJnH",
        "outputId": "91378d32-f920-4166-e5cf-fbb16f6462a7"
      },
      "outputs": [
        {
          "name": "stdout",
          "output_type": "stream",
          "text": [
            "My name is Talha and my age is 28\n"
          ]
        }
      ],
      "source": [
        "# format\n",
        "name =\"Talha\"\n",
        "age = 28\n",
        "print(\"My name is {} and my age is {}\" .format(name, age))"
      ]
    },
    {
      "cell_type": "code",
      "execution_count": null,
      "metadata": {
        "colab": {
          "base_uri": "https://localhost:8080/"
        },
        "id": "2jgtvq3wVu0u",
        "outputId": "7a9a5f07-bf14-478c-8f4d-27baa04302d4"
      },
      "outputs": [
        {
          "name": "stdout",
          "output_type": "stream",
          "text": [
            "How are you Talha\n"
          ]
        }
      ],
      "source": [
        "# (ii) format_map\n",
        "students = \"How are you {name}\"\n",
        "print(students.format_map({\"name\":\"Talha\"}))"
      ]
    },
    {
      "cell_type": "code",
      "execution_count": null,
      "metadata": {
        "colab": {
          "base_uri": "https://localhost:8080/"
        },
        "id": "Y9HAqhJNW0NN",
        "outputId": "bfa0f78d-f90a-455c-d917-cbe56cbc3bcd"
      },
      "outputs": [
        {
          "name": "stdout",
          "output_type": "stream",
          "text": [
            "Hello, my name is John and I am 30 years old.\n"
          ]
        }
      ],
      "source": [
        "person = {'name': 'John', 'age': 30}\n",
        "\n",
        "# Using format_map to format string with dictionary\n",
        "greeting = \"Hello, my name is {name} and I am {age} years old.\".format_map(person)\n",
        "\n",
        "print(greeting)"
      ]
    },
    {
      "cell_type": "code",
      "execution_count": null,
      "metadata": {
        "colab": {
          "base_uri": "https://localhost:8080/"
        },
        "id": "2rBZ7X0AW85E",
        "outputId": "bffdb44c-cfb5-400b-8aa6-5972c01ee7a4"
      },
      "outputs": [
        {
          "name": "stdout",
          "output_type": "stream",
          "text": [
            "My name is Talha and my age is 28\n"
          ]
        }
      ],
      "source": [
        "# format_map\n",
        "# my_self = {\"name\": \"Talha\", \"age\": 28}\n",
        "# print(\"My name is {name} and my age is {age}\" .format_map(my_self))\n"
      ]
    },
    {
      "cell_type": "markdown",
      "metadata": {
        "id": "_txbNu75bUBU"
      },
      "source": [
        "## **3. Character case manipulation**\n",
        "- `capitalize`, `casefold`, `lower`, `upper`, `swapcase`, `title`, `istitle`, `islower`, `isupper`"
      ]
    },
    {
      "cell_type": "code",
      "execution_count": null,
      "metadata": {
        "colab": {
          "base_uri": "https://localhost:8080/"
        },
        "id": "w1ASkqu2X01f",
        "outputId": "0b95fc90-acf7-4190-81da-60af5a1fd478"
      },
      "outputs": [
        {
          "name": "stdout",
          "output_type": "stream",
          "text": [
            "Talha farooq\n",
            "My name is talha farooq\n",
            "Talha farooq\n",
            "talha farooq\n",
            "My name is Talha farooq\n"
          ]
        }
      ],
      "source": [
        "# capitalize : sentence ke pehle word ke firsrt letter ko capital kr de ga\n",
        "name = \"talha farooq\"\n",
        "print(name.capitalize())\n",
        "name1 = input(\"My name is \")\n",
        "print(name1.capitalize())\n",
        "name2 = input()\n",
        "print(\"My name is \" +name2.capitalize())"
      ]
    },
    {
      "cell_type": "code",
      "execution_count": null,
      "metadata": {
        "colab": {
          "base_uri": "https://localhost:8080/"
        },
        "id": "hXWz7m6QcQUG",
        "outputId": "902e6418-fdd9-450d-b2b2-0fdefc228fb0"
      },
      "outputs": [
        {
          "name": "stdout",
          "output_type": "stream",
          "text": [
            "what is your name\n"
          ]
        }
      ],
      "source": [
        "# casefold : ye string ko completely lower case mein convert krti he\n",
        "intro = \"What Is Your Name\"\n",
        "print(intro.casefold())"
      ]
    },
    {
      "cell_type": "code",
      "execution_count": null,
      "metadata": {
        "colab": {
          "base_uri": "https://localhost:8080/"
        },
        "id": "ZpVNve03d0hs",
        "outputId": "e32f4555-a9fb-4e61-a112-44dc2c0ab0a8"
      },
      "outputs": [
        {
          "name": "stdout",
          "output_type": "stream",
          "text": [
            "what is your name\n"
          ]
        }
      ],
      "source": [
        "# lower : ye string ko completely lower case mein convert krti he\n",
        "intro = \"WHAT IS YOUR NAME\"\n",
        "print(intro.lower())"
      ]
    },
    {
      "cell_type": "code",
      "execution_count": null,
      "metadata": {
        "id": "m1FFHxXIfUn4"
      },
      "outputs": [],
      "source": [
        "# Difference between lower() and casefold():\n",
        "# lower(): Sirf ASCII characters ko lowercase mein convert karta hai.\n",
        "# Yeh case-insensitive comparisons mein reliable nahi hota jab aap non-ASCII characters ka use karte hain.\n",
        "\n",
        "# casefold(): Yeh Unicode characters ko bhi handle karta hai, aur lower() se zyada effective hai\n",
        "# jab non-ASCII characters (jaise German mein \"ß\") ko handle karna ho."
      ]
    },
    {
      "cell_type": "code",
      "execution_count": null,
      "metadata": {
        "colab": {
          "base_uri": "https://localhost:8080/"
        },
        "id": "XNV6nWnmesTX",
        "outputId": "438dea5f-bbfc-4950-92b9-bfc9fcefe289"
      },
      "outputs": [
        {
          "name": "stdout",
          "output_type": "stream",
          "text": [
            "False\n",
            "True\n"
          ]
        }
      ],
      "source": [
        "text1 = \"straße\"   # German word (ß)\n",
        "text2 = \"strasse\"  # \"ß\" is replaced with \"ss\"\n",
        "\n",
        "# Using lower() will not handle the special character correctly\n",
        "print(text1.lower() == text2.casefold())  # False\n",
        "\n",
        "# Using casefold() will handle the special character correctly\n",
        "print(text1.casefold() == text2.casefold())  # True\n"
      ]
    },
    {
      "cell_type": "code",
      "execution_count": null,
      "metadata": {
        "colab": {
          "base_uri": "https://localhost:8080/"
        },
        "id": "f4g06MkQfrZc",
        "outputId": "bd1041f9-d98f-4aa6-bb9d-7ff3e5e5dd87"
      },
      "outputs": [
        {
          "name": "stdout",
          "output_type": "stream",
          "text": [
            "WHAT IS YOUR NAME\n"
          ]
        }
      ],
      "source": [
        "# upper : ye string ko completely capital letter mein krta he\n",
        "intro = \"what is your name\"\n",
        "print(intro.upper())"
      ]
    },
    {
      "cell_type": "code",
      "execution_count": null,
      "metadata": {
        "colab": {
          "base_uri": "https://localhost:8080/"
        },
        "id": "BhPgBYZLf8cm",
        "outputId": "47773cbf-bbe9-406d-e39a-ffe7d90da3ff"
      },
      "outputs": [
        {
          "name": "stdout",
          "output_type": "stream",
          "text": [
            "wHAT iS yOUR nAME\n"
          ]
        }
      ],
      "source": [
        "# swapcase : ye string ko change kr deta he capital ko small letter mein aur small ko capital mein\n",
        "intro = \"What Is Your Name\"\n",
        "print(intro.swapcase())"
      ]
    },
    {
      "cell_type": "code",
      "execution_count": null,
      "metadata": {
        "colab": {
          "base_uri": "https://localhost:8080/"
        },
        "id": "w30OzYLIgPhc",
        "outputId": "e4200353-f439-4056-d5f6-eac5a9ec0b76"
      },
      "outputs": [
        {
          "name": "stdout",
          "output_type": "stream",
          "text": [
            "What Is Your Name. Hi I M Fine\n"
          ]
        }
      ],
      "source": [
        "# title : ye word ke first letter ko capital kr deta he.\n",
        "intro = \"what is your name. hi i m fine\"\n",
        "print(intro.title())"
      ]
    },
    {
      "cell_type": "code",
      "execution_count": null,
      "metadata": {
        "colab": {
          "base_uri": "https://localhost:8080/"
        },
        "id": "jcNevZtLgVu5",
        "outputId": "124f06a7-6370-46b3-89cd-ca176b1f3bcb"
      },
      "outputs": [
        {
          "name": "stdout",
          "output_type": "stream",
          "text": [
            "False\n"
          ]
        }
      ],
      "source": [
        "# istitle : method yeh return karta hai True agar string ka har word title case mein hai, aur False agar koi word title case mein nahi hai.\n",
        "intro = \"What is your name\"\n",
        "print(intro.istitle())"
      ]
    },
    {
      "cell_type": "code",
      "execution_count": null,
      "metadata": {
        "colab": {
          "base_uri": "https://localhost:8080/"
        },
        "id": "IXF_VON7iPGb",
        "outputId": "5486ca8d-154e-4f68-f710-09a6c2251f6b"
      },
      "outputs": [
        {
          "name": "stdout",
          "output_type": "stream",
          "text": [
            "True\n"
          ]
        }
      ],
      "source": [
        "#islower : is mein sb letter small ho ge to true agr koi capital ho ga to false ho jae ga\n",
        "intro = \"what is your name\"\n",
        "print(intro.islower())"
      ]
    },
    {
      "cell_type": "code",
      "execution_count": null,
      "metadata": {
        "colab": {
          "base_uri": "https://localhost:8080/"
        },
        "id": "8oJN1bvkiSMo",
        "outputId": "5e2ad46c-5b0c-4809-99d4-d07b669312a0"
      },
      "outputs": [
        {
          "name": "stdout",
          "output_type": "stream",
          "text": [
            "True\n"
          ]
        }
      ],
      "source": [
        "#isupper : is mein sb letter capital ho ge to true agr koi small ho ga to false ho jae ga\n",
        "intro = \"WHAT IS YOUR NAME\"\n",
        "print(intro.isupper())"
      ]
    },
    {
      "cell_type": "code",
      "execution_count": null,
      "metadata": {
        "colab": {
          "base_uri": "https://localhost:8080/"
        },
        "id": "kahCSaIXEEpq",
        "outputId": "950d2916-9d07-4007-e50f-749e00e66428"
      },
      "outputs": [
        {
          "name": "stdout",
          "output_type": "stream",
          "text": [
            "Waht is your name\n",
            "WAHT IS YOUR NAME\n",
            "Waht Is Your Name\n",
            "waht is your name\n",
            "waht is your name\n",
            "WAHT IS YOUR NAME\n",
            "False\n",
            "True\n",
            "False\n"
          ]
        }
      ],
      "source": [
        "intro = \"waht is your name\"\n",
        "print(intro.capitalize())\n",
        "print(intro.upper())\n",
        "print(intro.title())\n",
        "print(intro.casefold())\n",
        "print(intro.lower())\n",
        "print(intro.swapcase())\n",
        "print(intro.istitle())\n",
        "print(intro.islower())\n",
        "print(intro.isupper())"
      ]
    },
    {
      "cell_type": "markdown",
      "metadata": {
        "id": "dbkhXvQIjHGx"
      },
      "source": [
        "## **4. Substring Search and Validation:**\n",
        "- `find`, `rfind`, `index`, `rindex`, `startswith`, `endswith`\n",
        "- **`find():`** ek string method hai jo kisi string ke andar ek specific substring ka position (index) dhoondhne ke liye use hota hai. Agar wo substring mil jaye, to ye uska pehla index return karta hai, aur agar na mile to -1 return karta hai.\n",
        "- **`rfind():`** rfind bhi ek string method hai jo find ki tarah kaam karta hai, lekin ye search right side (aakhri se) start karta hai. Iska kaam ye hai ke kisi substring ka last occurrence (aakhri baar jo mile) ka index return kare. Agar substring na mile, to ye -1 return karta hai.\n",
        "\n",
        "- **`index():`** index method bhi find() ki tarah kaam karta hai, lekin agar substring nahi milti, to yeh ValueError raise karta hai.\n",
        "- **`rindex():`** rindex() method bhi index() ki tarah kaam karta hai, lekin yeh right se substring ko dhundhta hai. Agar substring nahi milti, to yeh ValueError raise karta hai.\n",
        "- **`startswith():`** startswith() method yeh check karta hai ki string kisi specified substring se start hoti hai ya nahi.\n",
        "Agar string us substring se start hoti hai, to True return hota hai, warna False.\n",
        "- **`endswith():`** endswith() method yeh check karta hai ki string kisi specified substring se end hoti hai ya nahi. Agar string us substring se end hoti hai, to True return hota hai, warna False."
      ]
    },
    {
      "cell_type": "code",
      "execution_count": null,
      "metadata": {
        "colab": {
          "base_uri": "https://localhost:8080/"
        },
        "id": "zwx4vPmNjOig",
        "outputId": "79ef53a6-e8f5-4589-9ff4-b57c5173cd53"
      },
      "outputs": [
        {
          "name": "stdout",
          "output_type": "stream",
          "text": [
            "13\n"
          ]
        }
      ],
      "source": [
        "# find ek string method hai jo kisi string ke andar ek specific substring ka position (index) dhoondhne ke liye use hota hai. Agar wo substring mil jaye, to ye uska pehla index return karta hai, aur agar na mile to -1 return karta hai.\n",
        "intro = \"what is your name\"\n",
        "print(intro.find(\"name\"))"
      ]
    },
    {
      "cell_type": "code",
      "execution_count": null,
      "metadata": {
        "colab": {
          "base_uri": "https://localhost:8080/"
        },
        "id": "p9lKDFfy_mK-",
        "outputId": "ee63fae0-f74e-47b8-bfeb-4e591a6f0e5f"
      },
      "outputs": [
        {
          "name": "stdout",
          "output_type": "stream",
          "text": [
            "-1\n"
          ]
        }
      ],
      "source": [
        "intro = \"what is your name\"\n",
        "print(intro.find(\"hi\"))"
      ]
    },
    {
      "cell_type": "code",
      "execution_count": null,
      "metadata": {
        "colab": {
          "base_uri": "https://localhost:8080/"
        },
        "id": "G-xHXy8UBDjA",
        "outputId": "123a1290-ec8c-4cc9-84d3-317ce6ee47fa"
      },
      "outputs": [
        {
          "name": "stdout",
          "output_type": "stream",
          "text": [
            "13\n"
          ]
        }
      ],
      "source": [
        "\n",
        "# rfind bhi ek string method hai jo find ki tarah kaam karta hai, lekin ye search right side (aakhri se) start karta hai. Iska kaam ye hai ke kisi substring ka last occurrence (aakhri baar jo mile) ka index return kare. Agar substring na mile, to ye -1 return karta hai.\n",
        "intro = \"what is your name\"\n",
        "print(intro.rfind(\"name\"))"
      ]
    },
    {
      "cell_type": "code",
      "execution_count": null,
      "metadata": {
        "colab": {
          "base_uri": "https://localhost:8080/"
        },
        "id": "DdG2MLXgB5wF",
        "outputId": "7010800a-a9d6-41b7-9ab0-7926509e565c"
      },
      "outputs": [
        {
          "name": "stdout",
          "output_type": "stream",
          "text": [
            "8\n"
          ]
        }
      ],
      "source": [
        "intro = \"what is your name\"\n",
        "print(intro.index(\"your\"))"
      ]
    },
    {
      "cell_type": "code",
      "execution_count": null,
      "metadata": {
        "colab": {
          "base_uri": "https://localhost:8080/"
        },
        "id": "t2d27Ag8CXje",
        "outputId": "eea23da5-7c54-4fac-e52f-cde958c48841"
      },
      "outputs": [
        {
          "name": "stdout",
          "output_type": "stream",
          "text": [
            "8\n"
          ]
        }
      ],
      "source": [
        "intro =\"what is your name\"\n",
        "print(intro.rindex(\"your\"))"
      ]
    },
    {
      "cell_type": "code",
      "execution_count": null,
      "metadata": {
        "colab": {
          "base_uri": "https://localhost:8080/"
        },
        "id": "e5xwvF_lDTG3",
        "outputId": "bcb73c8b-a99f-4c64-c076-6c85e2e8444e"
      },
      "outputs": [
        {
          "name": "stdout",
          "output_type": "stream",
          "text": [
            "True\n",
            "True\n"
          ]
        }
      ],
      "source": [
        "intro = \"what is your name\"\n",
        "print(intro.startswith(\"what\"))\n",
        "print(intro.endswith(\"name\"))"
      ]
    },
    {
      "cell_type": "code",
      "execution_count": null,
      "metadata": {
        "colab": {
          "base_uri": "https://localhost:8080/"
        },
        "id": "kNpA6IfYDntV",
        "outputId": "50622e3d-4da8-4cf2-89fd-db591fd2c49d"
      },
      "outputs": [
        {
          "name": "stdout",
          "output_type": "stream",
          "text": [
            "5\n",
            "8\n",
            "13\n",
            "8\n",
            "True\n",
            "True\n"
          ]
        }
      ],
      "source": [
        "intro = \"what is your name\"\n",
        "print(intro.index(\"is\"))\n",
        "print(intro.rindex(\"your\"))\n",
        "print(intro.find(\"name\"))\n",
        "print(intro.rfind(\"your\"))\n",
        "print(intro.startswith(\"what\"))\n",
        "print(intro.endswith(\"name\"))\n"
      ]
    },
    {
      "cell_type": "code",
      "source": [
        "intro = \"what is your name\"\n",
        "\n",
        "index_result = intro.index(\"a\")\n",
        "print(f\"Index: {index_result}\")\n",
        "\n",
        "rindex_result = intro.rindex(\"a\")\n",
        "print(f\"Rindex: {rindex_result}\")\n",
        "\n",
        "find_result = intro.find(\"a\")\n",
        "print(f\"Find: {find_result}\")\n",
        "\n",
        "rfind_result = intro.rfind(\"a\")\n",
        "print(f\"Rfind: {rfind_result}\")\n",
        "\n",
        "startswith_result = intro.startswith(\"what\")\n",
        "print(f\"Startswith: {startswith_result}\")\n",
        "\n",
        "endswith_result = intro.endswith(\"name\")\n",
        "print(f\"Endswith: {endswith_result}\")"
      ],
      "metadata": {
        "id": "_Y9sePIrux8R",
        "outputId": "cf6c5389-972c-4e07-f824-3b4302823bec",
        "colab": {
          "base_uri": "https://localhost:8080/"
        }
      },
      "execution_count": null,
      "outputs": [
        {
          "output_type": "stream",
          "name": "stdout",
          "text": [
            "Index: 2\n",
            "Rindex: 14\n",
            "Find: 2\n",
            "Rfind: 14\n",
            "Startswith: True\n",
            "Endswith: True\n"
          ]
        }
      ]
    },
    {
      "cell_type": "markdown",
      "metadata": {
        "id": "CLghchTXIlDy"
      },
      "source": [
        "## **5. Substring Count and Replacement:**\n",
        "- `count`, `replace`"
      ]
    },
    {
      "cell_type": "code",
      "execution_count": null,
      "metadata": {
        "colab": {
          "base_uri": "https://localhost:8080/"
        },
        "id": "AlwlVq3uD8ik",
        "outputId": "0a02801e-c272-4735-a41b-c354b6850b7f"
      },
      "outputs": [
        {
          "name": "stdout",
          "output_type": "stream",
          "text": [
            "2\n",
            "what is your age\n"
          ]
        }
      ],
      "source": [
        "intro = \"what is your name\"\n",
        "print(intro.count(\"a\"))\n",
        "print(intro.replace(\"name\", \"age\"))"
      ]
    },
    {
      "cell_type": "code",
      "source": [
        "intro = \"what is your name\"\n",
        "replace_result = intro.replace(\"name\", \"age\")\n",
        "print(f\"Replace: {replace_result}\")\n",
        "count_result = intro.count(\"a\")\n",
        "print(f\"Count: {count_result}\")"
      ],
      "metadata": {
        "colab": {
          "base_uri": "https://localhost:8080/"
        },
        "id": "yHw4DNxBsHjm",
        "outputId": "97eae577-6811-4f40-e8bb-3d9a6834f4b1"
      },
      "execution_count": null,
      "outputs": [
        {
          "output_type": "stream",
          "name": "stdout",
          "text": [
            "Replace: what is your age\n",
            "Count: 2\n"
          ]
        }
      ]
    },
    {
      "cell_type": "markdown",
      "metadata": {
        "id": "Pnm3JNW7QQw-"
      },
      "source": [
        "## **6. Join and Split Operations:**\n",
        "- `join`, `split`, `rsplit`, `partition`, `rpartition`, `splitlines`\n",
        "- **`join():`** method ka use kisi list ya iterable ko ek string mein convert karne ke liye hota hai, aur ismein beech mein separator daala jata hai.\n",
        "- **`split():`** method string ko ek specified separator ke hisaab se todne ka kaam karta hai. Default separator space hota hai agar aap kuch specify nahi karte.\n",
        "- **`rsplit():`** method bhi split() ki tarah kaam karta hai, lekin yeh right se split karna shuru karta hai.\n",
        "- **`partition():`** method ek string ko ek specified separator ke hisaab se teen hisso mein todta hai. Yeh separator ko include karta hai aur string ko 3 parts mein return karta hai: pehle part, separator, aur baaki ka part.\n",
        "- **`rpartition():`** method bhi partition() ki tarah kaam karta hai, lekin yeh right se separator ko dhundta hai aur string ko 3 parts mein todta hai.\n",
        "- **`splitlines():`** method ka use string ko line-by-line split karne ke liye hota hai. Yeh har ek line ko ek element ke roop mein list mein convert kar deta hai."
      ]
    },
    {
      "cell_type": "code",
      "execution_count": null,
      "metadata": {
        "colab": {
          "base_uri": "https://localhost:8080/"
        },
        "id": "IiIoc39hQTYb",
        "outputId": "49749122-e1cf-4fea-86c9-1d99c0177f22"
      },
      "outputs": [
        {
          "output_type": "stream",
          "name": "stdout",
          "text": [
            "what is your name\n"
          ]
        }
      ],
      "source": [
        "intro = [\"what\", \"is\", \"your\", \"name\"]\n",
        "print(\" \".join(intro))"
      ]
    },
    {
      "cell_type": "code",
      "execution_count": null,
      "metadata": {
        "colab": {
          "base_uri": "https://localhost:8080/"
        },
        "id": "G-C4CWdDU45E",
        "outputId": "7813e5ec-0eeb-48a2-885a-0cf8b6124fab"
      },
      "outputs": [
        {
          "name": "stdout",
          "output_type": "stream",
          "text": [
            "['what', 'is', 'your', 'name']\n"
          ]
        }
      ],
      "source": [
        "intro = \"what is your name\"\n",
        "print(intro.split())"
      ]
    },
    {
      "cell_type": "code",
      "execution_count": null,
      "metadata": {
        "colab": {
          "base_uri": "https://localhost:8080/"
        },
        "id": "dCf3OGpIVM1B",
        "outputId": "abbf92aa-7a40-427c-e7a6-93f2561dfeb1"
      },
      "outputs": [
        {
          "name": "stdout",
          "output_type": "stream",
          "text": [
            "['what', 'is', 'your', 'name']\n"
          ]
        }
      ],
      "source": [
        "intro = \"what is your name\"\n",
        "print(intro.rsplit())"
      ]
    },
    {
      "cell_type": "code",
      "execution_count": null,
      "metadata": {
        "colab": {
          "base_uri": "https://localhost:8080/"
        },
        "id": "XFXn4A27VWtM",
        "outputId": "ef7f6759-4d2e-4d81-9dbb-a8db33b1d893"
      },
      "outputs": [
        {
          "output_type": "stream",
          "name": "stdout",
          "text": [
            "('method ek string ko ek specified separator ', 'ke', ' hisaab se teen hisso mein todta hai.')\n"
          ]
        }
      ],
      "source": [
        "intro = \"method ek string ko ek specified separator ke hisaab se teen hisso mein todta hai.\"\n",
        "print(intro.partition(\"ke\"))"
      ]
    },
    {
      "cell_type": "code",
      "execution_count": null,
      "metadata": {
        "colab": {
          "base_uri": "https://localhost:8080/"
        },
        "id": "YknAMqkxVvGK",
        "outputId": "c5753a60-b724-4e48-b87e-781a9e36504b"
      },
      "outputs": [
        {
          "output_type": "stream",
          "name": "stdout",
          "text": [
            "('method ek string ko ', 'ek', ' specified separator ke hisaab se teen hisso mein todta hai.')\n"
          ]
        }
      ],
      "source": [
        "intro = \"method ek string ko ek specified separator ke hisaab se teen hisso mein todta hai.\"\n",
        "print(intro.rpartition(\"ek\"))"
      ]
    },
    {
      "cell_type": "code",
      "source": [
        "intro = \"what is your name\"\n",
        "print(intro.splitlines())"
      ],
      "metadata": {
        "colab": {
          "base_uri": "https://localhost:8080/"
        },
        "id": "TktmpryeWoFw",
        "outputId": "8de1957f-f11f-4107-f338-ea899e5774b2"
      },
      "execution_count": null,
      "outputs": [
        {
          "output_type": "stream",
          "name": "stdout",
          "text": [
            "['what is your name']\n"
          ]
        }
      ]
    },
    {
      "cell_type": "code",
      "source": [
        "intro1 = [\"what\", \"is\", \"your\", \"name\"]\n",
        "print(\" \".join(intro1))\n",
        "intro = \"what is your name\"\n",
        "print(intro.split())\n",
        "print(intro.rsplit(\"name\"))\n",
        "print(intro.partition(\"is\"))\n",
        "print(intro.rpartition(\"your\"))\n",
        "print(intro.splitlines())"
      ],
      "metadata": {
        "colab": {
          "base_uri": "https://localhost:8080/"
        },
        "id": "wHDo5RgpW-YT",
        "outputId": "d9b7d090-1ab2-4350-e094-a60bd4563e14"
      },
      "execution_count": null,
      "outputs": [
        {
          "output_type": "stream",
          "name": "stdout",
          "text": [
            "what is your name\n",
            "['what', 'is', 'your', 'name']\n",
            "['what is your ', '']\n",
            "('what ', 'is', ' your name')\n",
            "('what is ', 'your', ' name')\n",
            "['what is your name']\n"
          ]
        }
      ]
    },
    {
      "cell_type": "code",
      "source": [
        "intro1 = [\"what\", \"is\", \"your\", \"name\"]\n",
        "join_result = \" \".join(intro1)\n",
        "print(f\"Join: {join_result}\")\n",
        "intro = \"what is your name\"\n",
        "split_result = intro.split()\n",
        "print(f\"Split: {split_result}\")\n",
        "rsplit_result = intro.rsplit()\n",
        "print(f\"RSPLIT: {rsplit_result}\")\n",
        "partition_result = intro.partition(\"is\")\n",
        "print(f\"Partition: {partition_result}\")\n",
        "rpartition_result = intro.rpartition(\"your\")\n",
        "print(f\"Rpartition: {rpartition_result}\")\n",
        "splitlines_result = intro.splitlines()\n",
        "print(f\"Splitlines: {splitlines_result}\")"
      ],
      "metadata": {
        "colab": {
          "base_uri": "https://localhost:8080/"
        },
        "id": "OrZF_Y-xpq3p",
        "outputId": "d9391151-c165-4771-aa2b-7228a7ad825f"
      },
      "execution_count": null,
      "outputs": [
        {
          "output_type": "stream",
          "name": "stdout",
          "text": [
            "Join: what is your name\n",
            "Split: ['what is your ', '']\n",
            "RSPLIT: ['what', 'is', 'your', 'name']\n",
            "Partition: ('what ', 'is', ' your name')\n",
            "Rpartition: ('what is ', 'your', ' name')\n",
            "Splitlines: ['what is your name']\n"
          ]
        }
      ]
    },
    {
      "cell_type": "markdown",
      "source": [
        "## **7. String Alignment and Padding:**\n",
        "- `center`, `ljust`, `rjust`, `zfill`\n",
        "- **`center(width):`** String ko center mein align karta hai aur specified width tak padding add karta hai.\n",
        "- **`ljust(width):`** String ko left side align karta hai aur specified width tak padding add karta hai.\n",
        "- **`rjust(width):`** String ko right side align karta hai aur specified width tak padding add karta hai.\n",
        "- **`zfill(width):`** String ko zero se fill karta hai takay specified width complete ho."
      ],
      "metadata": {
        "id": "1Dvg6zRJi94J"
      }
    },
    {
      "cell_type": "code",
      "source": [
        "name = \"Talha\"\n",
        "print(name.center(50))\n",
        "print(name.center(50, \"-\")) # padding"
      ],
      "metadata": {
        "colab": {
          "base_uri": "https://localhost:8080/"
        },
        "id": "HS1e___zi3rd",
        "outputId": "45bd8f60-b3a7-4937-f6a7-5bff0bc11060"
      },
      "execution_count": null,
      "outputs": [
        {
          "output_type": "stream",
          "name": "stdout",
          "text": [
            "                      Talha                       \n",
            "----------------------Talha-----------------------\n"
          ]
        }
      ]
    },
    {
      "cell_type": "code",
      "source": [
        "name =\"Talha\"\n",
        "print(name.ljust(20))\n",
        "print((name.ljust(20, \"-\")))"
      ],
      "metadata": {
        "colab": {
          "base_uri": "https://localhost:8080/"
        },
        "id": "_sTOTaXRlLnS",
        "outputId": "4ec516ed-264d-43b7-c0a1-44929641e0fa"
      },
      "execution_count": null,
      "outputs": [
        {
          "output_type": "stream",
          "name": "stdout",
          "text": [
            "Talha               \n",
            "Talha---------------\n"
          ]
        }
      ]
    },
    {
      "cell_type": "code",
      "source": [
        "name = \"Talha\"\n",
        "print(name.rjust(20))\n",
        "print(name.rjust(20, '-'))"
      ],
      "metadata": {
        "colab": {
          "base_uri": "https://localhost:8080/"
        },
        "id": "5Ha9XMuCl3SF",
        "outputId": "f9c3c9e2-9e2d-49fc-9036-0a8ad2890283"
      },
      "execution_count": null,
      "outputs": [
        {
          "output_type": "stream",
          "name": "stdout",
          "text": [
            "               Talha\n",
            "---------------Talha\n"
          ]
        }
      ]
    },
    {
      "cell_type": "code",
      "source": [
        "name = \"Talha\"\n",
        "print(name.zfill(20))"
      ],
      "metadata": {
        "colab": {
          "base_uri": "https://localhost:8080/"
        },
        "id": "EicCV3pZmRaU",
        "outputId": "f479b73c-1791-4d88-8e27-0f48a3fe216b"
      },
      "execution_count": null,
      "outputs": [
        {
          "output_type": "stream",
          "name": "stdout",
          "text": [
            "000000000000000Talha\n"
          ]
        }
      ]
    },
    {
      "cell_type": "code",
      "source": [
        "name = \"Talha\"\n",
        "print(name.center(20))\n",
        "print(name.center(20, '-'))\n",
        "print(name.ljust(20))\n",
        "print(name.ljust(20, '-'))\n",
        "print(name.rjust(20))\n",
        "print(name.rjust(20, '-'))\n",
        "print(name.zfill(20))\n",
        "print(name.zfill(-20))"
      ],
      "metadata": {
        "colab": {
          "base_uri": "https://localhost:8080/"
        },
        "id": "qSVU9q1smpWc",
        "outputId": "cdd4b1b5-e541-42d6-de6a-a69d69bc2a6f"
      },
      "execution_count": null,
      "outputs": [
        {
          "output_type": "stream",
          "name": "stdout",
          "text": [
            "       Talha        \n",
            "-------Talha--------\n",
            "Talha               \n",
            "Talha---------------\n",
            "               Talha\n",
            "---------------Talha\n",
            "000000000000000Talha\n",
            "Talha\n"
          ]
        }
      ]
    },
    {
      "cell_type": "code",
      "source": [
        "name = \"Talha\"\n",
        "center_result = name.center(20)\n",
        "print(f\"Center: {result}\")\n",
        "ljust_result = name.ljust(20)\n",
        "print(f\"Ljust: {ljust_result}\")\n",
        "rjust_result = name.rjust(20)\n",
        "print(f\"Rjust: {rjust_result}\")\n",
        "zfill_result = name.zfill(20)\n",
        "print(f\"Zfill: {zfill_result}\")"
      ],
      "metadata": {
        "colab": {
          "base_uri": "https://localhost:8080/"
        },
        "id": "lJu-B9ornrNs",
        "outputId": "dac04ed0-faa2-423a-e1b5-784aca20321b"
      },
      "execution_count": null,
      "outputs": [
        {
          "output_type": "stream",
          "name": "stdout",
          "text": [
            "Center:        Talha        \n",
            "Ljust: Talha               \n",
            "Rjust:                Talha\n",
            "Zfill: 000000000000000Talha\n"
          ]
        }
      ]
    },
    {
      "cell_type": "markdown",
      "source": [
        "## **8. Encoding and Translation:**\n",
        "- `encode`, `translate`, `maketrans`\n",
        "- **`encode()`**\n",
        "- **`translate()`**\n",
        "- **`maketrans()`**"
      ],
      "metadata": {
        "id": "hn_JLJtVz2Wz"
      }
    },
    {
      "cell_type": "code",
      "source": [
        "# Variable storing the string\n",
        "name = 'Rehan'\n",
        "\n",
        "# List storing the same string\n",
        "teacher_names = ['Rehan']\n",
        "\n",
        "# Memory addresses\n",
        "print(\"Memory address of 'name':\", id(name))\n",
        "print(\"Memory address of 'Rehan' in list:\", id(teacher_names[0]))\n",
        "\n",
        "# Check if the memory addresses are the same\n",
        "if id(name) == id(teacher_names[0]):\n",
        "    print(\"Both have the same memory address.\")\n",
        "else:\n",
        "    print(\"They have different memory addresses.\")"
      ],
      "metadata": {
        "id": "NEZUrwtRzy2o",
        "outputId": "bf3f74c1-a6dc-49fa-d165-2ab074c02eb3",
        "colab": {
          "base_uri": "https://localhost:8080/"
        }
      },
      "execution_count": null,
      "outputs": [
        {
          "output_type": "stream",
          "name": "stdout",
          "text": [
            "Memory address of 'name': 133459003730672\n",
            "Memory address of 'Rehan' in list: 133459003730672\n",
            "Both have the same memory address.\n"
          ]
        }
      ]
    },
    {
      "cell_type": "markdown",
      "source": [
        "## **9. Prefix and Suffix Manipulation:**\n",
        "- `removeprefix`, `removesuffix`\n",
        "\n",
        "`removeprefix` and `removesuffix` Python mein string methods hain jo ek string se prefix (aage ka hissa) ya suffix (pichla hissa) ko hata dete hain. In dono methods ka istemal tab kiya jata hai jab aapko kisi string ke starting ya ending part ko remove karna ho.\n",
        "- **`removeprefix`:** Prefix ko string ke starting se hata deta hai.\n",
        "- **`removesuffix`:** Suffix ko string ke end se hata deta hai."
      ],
      "metadata": {
        "id": "Tuud0fdQPM-V"
      }
    },
    {
      "cell_type": "code",
      "source": [
        "# removeprefix\n",
        "intro = \"what is your name\"\n",
        "print(intro.removeprefix(\"what\"))"
      ],
      "metadata": {
        "colab": {
          "base_uri": "https://localhost:8080/"
        },
        "id": "Duofl1XxOv7v",
        "outputId": "01e9cbc9-1c8e-4ea8-f031-19c879959520"
      },
      "execution_count": null,
      "outputs": [
        {
          "output_type": "stream",
          "name": "stdout",
          "text": [
            " is your name\n"
          ]
        }
      ]
    },
    {
      "cell_type": "code",
      "source": [
        "# removesuffix\n",
        "intro = \"what is your name\"\n",
        "print(intro.removesuffix(\"name\"))"
      ],
      "metadata": {
        "colab": {
          "base_uri": "https://localhost:8080/"
        },
        "id": "rZxzzKsvTlRF",
        "outputId": "f6636c56-02a9-48ca-b610-b78477baaf51"
      },
      "execution_count": null,
      "outputs": [
        {
          "output_type": "stream",
          "name": "stdout",
          "text": [
            "what is your \n"
          ]
        }
      ]
    },
    {
      "cell_type": "code",
      "source": [
        "intro =\"what is your name\"\n",
        "removeprefix_result = intro.removeprefix(\"what\")\n",
        "print(f\"Removeprefix: {removeprefix_result}\")\n",
        "removesuffix_result = intro.removesuffix(\"name\")\n",
        "print(f\"Removesuffix: {removesuffix_result}\")"
      ],
      "metadata": {
        "colab": {
          "base_uri": "https://localhost:8080/"
        },
        "id": "P_VYxckFT0BP",
        "outputId": "0f7c81ec-db15-4f4e-bf7c-6f4ce10156d2"
      },
      "execution_count": null,
      "outputs": [
        {
          "output_type": "stream",
          "name": "stdout",
          "text": [
            "Removeprefix:  is your name\n",
            "Removesuffix: what is your \n"
          ]
        }
      ]
    },
    {
      "cell_type": "markdown",
      "source": [
        "## **10. Tab Handling:**\n",
        "- `expandtabs`"
      ],
      "metadata": {
        "id": "Loe1BC8rUxhj"
      }
    },
    {
      "cell_type": "code",
      "source": [
        "intro = \"what is \\tyour name\"\n",
        "print(intro.expandtabs(8))"
      ],
      "metadata": {
        "colab": {
          "base_uri": "https://localhost:8080/"
        },
        "id": "NwqpmdrZVkug",
        "outputId": "e04d88e7-26fe-4ce0-ca5e-fc2f2b4db380"
      },
      "execution_count": null,
      "outputs": [
        {
          "output_type": "stream",
          "name": "stdout",
          "text": [
            "what is         your name\n"
          ]
        }
      ]
    },
    {
      "cell_type": "code",
      "source": [
        "intro = \"what is your \\tname\"\n",
        "expandtabs_result = intro.expandtabs(4)\n",
        "print(f\"Expandtabs: {expandtabs_result}\")"
      ],
      "metadata": {
        "colab": {
          "base_uri": "https://localhost:8080/"
        },
        "id": "sSMlq7AwWTj3",
        "outputId": "7406fd0f-55fa-4914-934e-d04e5a2423f0"
      },
      "execution_count": null,
      "outputs": [
        {
          "output_type": "stream",
          "name": "stdout",
          "text": [
            "Expandtabs: what is your    name\n"
          ]
        }
      ]
    },
    {
      "cell_type": "markdown",
      "source": [
        "## **11. Character Classification (Validation Methods):**\n",
        "- `isalnum`, `isalpha`, `isascii`, `isdecimal`, `isdigit`, `isidentifier`, `isnumeric`, `isprintable`, `isspace`\n",
        "\n",
        "\n",
        "- **`isalnum`:** Ye method check karta hai ke string mein sirf letters (a-z, A-Z) ya digits (0-9) hain, aur koi aur character nahi hai.\n",
        "- **`isalpha`:** Ye method check karta hai ke string mein sirf alphabetic characters hain (a-z, A-Z), numbers ya spaces nahi.\n",
        "- **`isascii`:** Ye method check karta hai ke string ke saare characters ASCII characters hain (jo 0 se 127 tak hoti hain).\n",
        "- **`isdecimal`:** Ye method check karta hai ke string mein sirf decimal digits (0-9) hain.\n",
        "- **`isdigit`:** Ye method check karta hai ke string mein sirf digits (0-9) hain. isdecimal() se thoda broader hai kyunki isme superscript, subscript, ya fraction digits bhi count hote hain.\n",
        "- **`isidentifier`:** Ye method check karta hai ke string ek valid Python identifier hai ya nahi. Valid identifier ke liye string ko letters (a-z, A-Z), digits (0-9), ya underscore (_) ke combination se banana padta hai, lekin wo number se start nahi kar sakti.\n",
        "- **`isnumeric`:** Ye method check karta hai ke string mein sirf numeric characters hain, jo digits ya numeric symbols ho sakte hain (jaise fractions, Roman numerals, etc.).\n",
        "- **`isprintable`:** Ye method check karta hai ke string mein saare characters printable hain ya nahi, yani wo characters jo screen par display ho sakte hain. Agar string mein koi non-printable character ho (jaise newline ya tab), toh False return hoga.\n",
        "- **`isspace`:** Ye method check karta hai ke string mein sirf spaces (ya whitespace characters) hain. Agar string mein kisi bhi type ka non-whitespace character ho, toh False return hoga."
      ],
      "metadata": {
        "id": "wLVvlDz6YKIC"
      }
    },
    {
      "cell_type": "code",
      "source": [
        "# isalnum: Ye method check karta hai ke string mein sirf letters (a-z, A-Z) ya digits (0-9) hain, aur koi aur character ys spaces nahi hai.\n",
        "intro = \"what is your name\"\n",
        "print(intro.isalnum())\n",
        "intro1 = \"whatisyourname\"\n",
        "print(intro1.isalnum())"
      ],
      "metadata": {
        "colab": {
          "base_uri": "https://localhost:8080/"
        },
        "id": "yDL4W_DNcTGi",
        "outputId": "d3616f9b-6d58-4f92-b83e-f38be259fc29"
      },
      "execution_count": null,
      "outputs": [
        {
          "output_type": "stream",
          "name": "stdout",
          "text": [
            "False\n",
            "True\n"
          ]
        }
      ]
    },
    {
      "cell_type": "code",
      "source": [
        "# isalpha: Ye method check karta hai ke string mein sirf alphabetic characters hain (a-z, A-Z), numbers ya spaces nahi.\n",
        "intro = \"what is your name\"\n",
        "print(intro.isalpha())\n",
        "intro1 = \"whatisyourname\"\n",
        "print(intro1.isalpha())"
      ],
      "metadata": {
        "colab": {
          "base_uri": "https://localhost:8080/"
        },
        "id": "hmYxGaGzdd3j",
        "outputId": "dfc11c36-3597-46eb-8c58-2a67c86a6caa"
      },
      "execution_count": null,
      "outputs": [
        {
          "output_type": "stream",
          "name": "stdout",
          "text": [
            "False\n",
            "True\n"
          ]
        }
      ]
    },
    {
      "cell_type": "code",
      "source": [
        "# isascii: Ye method check karta hai ke string ke saare characters ASCII characters hain (jo 0 se 127 tak hoti hain).\n",
        "intro = \"what is your name\"\n",
        "print(intro.isascii())"
      ],
      "metadata": {
        "colab": {
          "base_uri": "https://localhost:8080/"
        },
        "id": "wQXtdoyeeUlc",
        "outputId": "73965bb9-487f-4be1-bf48-678a96b838d0"
      },
      "execution_count": null,
      "outputs": [
        {
          "output_type": "stream",
          "name": "stdout",
          "text": [
            "True\n"
          ]
        }
      ]
    },
    {
      "cell_type": "code",
      "source": [
        "# isdecimal: Ye method check karta hai ke string mein sirf decimal digits (0-9) hain.\n",
        "intro = \"what is your name\"\n",
        "print(intro.isdecimal())\n",
        "intro2 = \"1312312\"\n",
        "print(intro2.isdecimal())\n",
        "intro3 = \"123.456\"\n",
        "print(intro3.isdecimal())"
      ],
      "metadata": {
        "colab": {
          "base_uri": "https://localhost:8080/"
        },
        "id": "Km0TLbVvep1W",
        "outputId": "e60948ae-0801-4d33-f7dd-35fe9e9e3bfa"
      },
      "execution_count": null,
      "outputs": [
        {
          "output_type": "stream",
          "name": "stdout",
          "text": [
            "False\n",
            "True\n",
            "False\n"
          ]
        }
      ]
    },
    {
      "cell_type": "code",
      "source": [
        "# isdigit: Ye method check karta hai ke string mein sirf digits (0-9) hain. isdecimal() se thoda broader hai kyunki isme superscript, subscript, ya fraction digits bhi count hote hain.\n",
        "intro = \"what is your name\"\n",
        "print(intro.isdigit())\n",
        "intro2 = \"1312312\"\n",
        "print(intro2.isdigit())\n",
        "intro3 = \"123.456\"\n",
        "print(intro3.isdigit())"
      ],
      "metadata": {
        "colab": {
          "base_uri": "https://localhost:8080/"
        },
        "id": "lNJTAeitfsTv",
        "outputId": "18ab6c06-a865-4d6f-895d-5f0f48989e1f"
      },
      "execution_count": null,
      "outputs": [
        {
          "output_type": "stream",
          "name": "stdout",
          "text": [
            "False\n",
            "True\n",
            "False\n"
          ]
        }
      ]
    },
    {
      "cell_type": "code",
      "source": [
        "# isidentifier: Ye method check karta hai ke string ek valid Python identifier hai ya nahi. Valid identifier ke liye string ko letters (a-z, A-Z), digits (0-9),\n",
        "# ya underscore (_) ke combination se banana padta hai, lekin wo number se start nahi kar sakti.\n",
        "intro = \"waht is this\"\n",
        "print(intro.isidentifier())\n",
        "intro3 = \"what_is_this\"\n",
        "print(intro3.isidentifier())"
      ],
      "metadata": {
        "colab": {
          "base_uri": "https://localhost:8080/"
        },
        "id": "hIl_nWhQh7Wp",
        "outputId": "165a8d76-0e74-4f45-e93e-4470c2e16be4"
      },
      "execution_count": null,
      "outputs": [
        {
          "output_type": "stream",
          "name": "stdout",
          "text": [
            "False\n",
            "True\n"
          ]
        }
      ]
    },
    {
      "cell_type": "code",
      "source": [
        "# isnumeric: Ye method check karta hai ke string mein sirf numeric characters hain, jo digits ya numeric symbols ho sakte hain (jaise fractions, Roman numerals, etc.).\n",
        "intro = \"waht is your nane\"\n",
        "print(intro.isnumeric())\n",
        "intro2 = \"123456\"\n",
        "print(intro2.isnumeric())"
      ],
      "metadata": {
        "colab": {
          "base_uri": "https://localhost:8080/"
        },
        "id": "pGRCjHmtjRgg",
        "outputId": "e669e7ac-3162-4e54-be79-e57ac2a78584"
      },
      "execution_count": null,
      "outputs": [
        {
          "output_type": "stream",
          "name": "stdout",
          "text": [
            "False\n",
            "True\n"
          ]
        }
      ]
    },
    {
      "cell_type": "code",
      "source": [
        "# isprintable: Ye method check karta hai ke string mein saare characters printable hain ya nahi, yani wo characters jo screen par display ho sakte hain. Agar string mein koi non-printable character ho (jaise newline ya tab), toh False return hoga.\n",
        "intro = \"what is your name\"\n",
        "print(intro.isprintable())"
      ],
      "metadata": {
        "colab": {
          "base_uri": "https://localhost:8080/"
        },
        "id": "9YIQqoh-nKZt",
        "outputId": "5b2c43a1-f012-4cfa-e88a-f5c77ab87125"
      },
      "execution_count": null,
      "outputs": [
        {
          "output_type": "stream",
          "name": "stdout",
          "text": [
            "True\n"
          ]
        }
      ]
    },
    {
      "cell_type": "code",
      "source": [
        "# isspace: Ye method check karta hai ke string mein sirf spaces (ya whitespace characters) hain. Agar string mein kisi bhi type ka non-whitespace character ho, toh False return hoga.\n",
        "intro4 = \"   \"\n",
        "print(intro4.isspace())"
      ],
      "metadata": {
        "colab": {
          "base_uri": "https://localhost:8080/"
        },
        "id": "wf9_NN9enuMQ",
        "outputId": "a10bdaaa-4f52-4607-c797-d374eda71265"
      },
      "execution_count": null,
      "outputs": [
        {
          "output_type": "stream",
          "name": "stdout",
          "text": [
            "True\n"
          ]
        }
      ]
    },
    {
      "cell_type": "code",
      "source": [
        "intro = \"what is your name\"\n",
        "intro1 = \"whatisyourname\"\n",
        "intro2 = \"123456\"\n",
        "intro3 = \"123.456\"\n",
        "intro4 = \"  \"\n",
        "isalnum_result = intro1.isalnum()\n",
        "isalpha_result = intro1.isalpha()\n",
        "isdigit_result = intro2.isdigit()\n",
        "isdecimal_result = intro2.isdecimal()\n",
        "isnumeric_result = intro2.isnumeric()\n",
        "isascii_result = intro.isascii()\n",
        "isprintble_result = intro.isprintable()\n",
        "isspace_result = intro4.isspace()\n",
        "print(f\"Isalnum: {isalnum_result}\")\n",
        "print(f\"Isalpha: {isalpha_result}\")\n",
        "print(f\"Isdigit: {isdigit_result}\")\n",
        "print(f\"Isdecimal: {isdecimal_result}\")\n",
        "print(f\"Isnumeric: {isnumeric_result}\")\n",
        "print(f\"Isascii: {isascii_result}\")\n",
        "print(f\"Isprintable: {isprintble_result}\")\n",
        "print(f\"Isspace: {isspace_result}\")"
      ],
      "metadata": {
        "colab": {
          "base_uri": "https://localhost:8080/"
        },
        "id": "CjMBxZE9orKb",
        "outputId": "91d2de73-5336-4c49-ef87-c30c432c8e4d"
      },
      "execution_count": null,
      "outputs": [
        {
          "output_type": "stream",
          "name": "stdout",
          "text": [
            "Isalnum: True\n",
            "Isalpha: True\n",
            "Isdigit: True\n",
            "Isdecimal: True\n",
            "Isnumeric: True\n",
            "Isascii: True\n",
            "Isprintable: True\n",
            "Isspace: True\n"
          ]
        }
      ]
    },
    {
      "cell_type": "markdown",
      "source": [
        "# LIST\n"
      ],
      "metadata": {
        "id": "9FnByVV3rA23"
      }
    },
    {
      "cell_type": "code",
      "source": [
        "students = [\"Talha\", \"Sundar\", \"Asim\", \"Asad\"]\n",
        "print(students)"
      ],
      "metadata": {
        "colab": {
          "base_uri": "https://localhost:8080/"
        },
        "id": "7p-j0OBNrTHt",
        "outputId": "e9519cd4-71c7-4bfc-b822-f027190ff1e2"
      },
      "execution_count": null,
      "outputs": [
        {
          "output_type": "stream",
          "name": "stdout",
          "text": [
            "['Talha', 'Sundar', 'Asim', 'Asad']\n"
          ]
        }
      ]
    },
    {
      "cell_type": "markdown",
      "source": [
        "- **list[start_index:end_index]**\n",
        "- `start_index:` Ye wo index hai jahan se hum elements ko lena shuru karte hain. (Start index ko include kiya jata hai)\n",
        "- `end_index:` Ye wo index hai jahan tak hum elements ko select karte hain. (End index ko exclude kiya jata hai)"
      ],
      "metadata": {
        "id": "-wOlGrjdtEQe"
      }
    },
    {
      "cell_type": "code",
      "source": [
        "students = [\"Talha\", \"Sundar\", \"Asim\", \"Asad\"]\n",
        "print(students[2])"
      ],
      "metadata": {
        "colab": {
          "base_uri": "https://localhost:8080/"
        },
        "id": "KW9qM7-DsBKw",
        "outputId": "72b0583d-71c7-4f7f-f65d-d349c720c518"
      },
      "execution_count": null,
      "outputs": [
        {
          "output_type": "stream",
          "name": "stdout",
          "text": [
            "Asim\n"
          ]
        }
      ]
    },
    {
      "cell_type": "code",
      "source": [
        "students = [\"Talha\", \"Sundar\", \"Asim\", \"Asad\"]\n",
        "print(students[1:3])"
      ],
      "metadata": {
        "colab": {
          "base_uri": "https://localhost:8080/"
        },
        "id": "1N6mYwAMsK_J",
        "outputId": "ea413ec4-bede-4231-acfc-69c9eacba27c"
      },
      "execution_count": null,
      "outputs": [
        {
          "output_type": "stream",
          "name": "stdout",
          "text": [
            "['Sundar', 'Asim']\n"
          ]
        }
      ]
    },
    {
      "cell_type": "code",
      "source": [
        "students = [\"Talha\", \"Sundar\", \"Asim\", \"Asad\", \"Rehan\", \"Ali\", \"Zaid\", \"Shehzad\"]\n",
        "print(students[2:6])\n"
      ],
      "metadata": {
        "colab": {
          "base_uri": "https://localhost:8080/"
        },
        "id": "3be953AesSvz",
        "outputId": "afccdbd0-26b0-4ba5-b671-8970ee6b745c"
      },
      "execution_count": null,
      "outputs": [
        {
          "output_type": "stream",
          "name": "stdout",
          "text": [
            "['Asim', 'Asad', 'Rehan', 'Ali']\n"
          ]
        }
      ]
    },
    {
      "cell_type": "code",
      "source": [
        "students = [\"Talha\", \"Sundar\", \"Asim\", \"Asad\", \"Rehan\", \"Ali\", \"Zaid\", \"Shehzad\"]\n",
        "print(students[-1])"
      ],
      "metadata": {
        "colab": {
          "base_uri": "https://localhost:8080/"
        },
        "id": "H2uE7DFctpGh",
        "outputId": "22c32934-07db-4f8a-bd1d-7bb6a2812dfc"
      },
      "execution_count": null,
      "outputs": [
        {
          "output_type": "stream",
          "name": "stdout",
          "text": [
            "Shehzad\n"
          ]
        }
      ]
    },
    {
      "cell_type": "code",
      "source": [
        "students = [\"Talha\", \"Sundar\", \"Asim\", \"Asad\", \"Rehan\", \"Ali\", \"Zaid\", \"Shehzad\"]\n",
        "print(students[:3])"
      ],
      "metadata": {
        "colab": {
          "base_uri": "https://localhost:8080/"
        },
        "id": "z1mY359StvXu",
        "outputId": "9c3b1c5a-afe3-4706-8b47-294f8587363e"
      },
      "execution_count": null,
      "outputs": [
        {
          "output_type": "stream",
          "name": "stdout",
          "text": [
            "['Talha', 'Sundar', 'Asim']\n"
          ]
        }
      ]
    },
    {
      "cell_type": "code",
      "source": [
        "students = [\"Talha\", \"Sundar\", \"Asim\", \"Asad\", \"Rehan\", \"Ali\", \"Zaid\", \"Shehzad\"]\n",
        "print(students[2:])"
      ],
      "metadata": {
        "colab": {
          "base_uri": "https://localhost:8080/"
        },
        "id": "Chr6gwZbt2mJ",
        "outputId": "35c04778-718e-4b47-f004-5cbb46ad7fd9"
      },
      "execution_count": null,
      "outputs": [
        {
          "output_type": "stream",
          "name": "stdout",
          "text": [
            "['Asim', 'Asad', 'Rehan', 'Ali', 'Zaid', 'Shehzad']\n"
          ]
        }
      ]
    },
    {
      "cell_type": "code",
      "source": [
        "students = [\"Talha\", \"Sundar\", \"Asim\", \"Asad\", \"Rehan\", \"Ali\", \"Zaid\", \"Shehzad\"]\n",
        "print(students[1:6:4])"
      ],
      "metadata": {
        "colab": {
          "base_uri": "https://localhost:8080/"
        },
        "id": "PKgy2KHft7o_",
        "outputId": "398e5e97-4b2c-41cd-a203-2ff16b0986d1"
      },
      "execution_count": null,
      "outputs": [
        {
          "output_type": "stream",
          "name": "stdout",
          "text": [
            "['Sundar', 'Ali']\n"
          ]
        }
      ]
    },
    {
      "cell_type": "code",
      "source": [
        "students = [\"Talha\", \"Sundar\", \"Asim\", \"Asad\", \"Rehan\", \"Ali\", \"Zaid\", \"Shehzad\"]\n",
        "print(students[1:6:2])"
      ],
      "metadata": {
        "colab": {
          "base_uri": "https://localhost:8080/"
        },
        "id": "eMA7qfVluRWl",
        "outputId": "550032ae-f573-4a19-815d-111a651c9cea"
      },
      "execution_count": null,
      "outputs": [
        {
          "output_type": "stream",
          "name": "stdout",
          "text": [
            "['Sundar', 'Asad', 'Ali']\n"
          ]
        }
      ]
    },
    {
      "cell_type": "code",
      "source": [
        "list_methods = [method for method in dir(list) if not method.startswith('__')]\n",
        "print(list_methods)"
      ],
      "metadata": {
        "id": "edBu2P-t-TTx",
        "outputId": "915c6f02-45c9-4548-fea3-30c1ed0b9ad9",
        "colab": {
          "base_uri": "https://localhost:8080/"
        }
      },
      "execution_count": null,
      "outputs": [
        {
          "output_type": "stream",
          "name": "stdout",
          "text": [
            "['append', 'clear', 'copy', 'count', 'extend', 'index', 'insert', 'pop', 'remove', 'reverse', 'sort']\n"
          ]
        }
      ]
    },
    {
      "cell_type": "markdown",
      "source": [
        "## List Methods\n",
        "- `append`, `extend`, `insert`, `remove`, `pop`, `clear`, `index`, `count`, `sort`, `reverse`\n",
        "\n",
        "**`append():`** Iska use ek item ko list ke end mein add karne ke liye hota hai.\n",
        "\n",
        "**`extend():`** Iska use ek list ko doosre list ke saath combine karne ke liye hota hai. Ye existing list mein doosri list ke elements add karta hai.\n",
        "\n",
        "**`insert():`** Ye method ek element ko list ke kisi specific index par insert karta hai.\n",
        "\n",
        "**`remove():`** Ye method kisi element ko list se remove karta hai. Agar element multiple bar ho, toh pehla occurrence remove hota hai.\n",
        "\n",
        "**`pop():`** Ye method list ke last item ko remove karta hai aur return bhi karta hai. Aap kisi specific index ka element bhi remove kar sakte hain.\n",
        "\n",
        "**`clear():`** Iska use list ke sare elements ko remove karne ke liye hota hai, list ko empty kar deta hai.\n",
        "\n",
        "**`index():`** Ye method kisi element ka pehla occurrence find karta hai aur uska index return karta hai.\n",
        "\n",
        "**`count():`** Iska use list mein kisi specific element ke total occurrences count karne ke liye hota hai.\n",
        "\n",
        "**`sort():`** Ye method list ko ascending order mein sort karne ke liye hota hai. Agar aap descending order mein sort karna chahte hain, toh reverse=True parameter use kar sakte hain.\n",
        "\n",
        "**`reverse():`** Ye method list ke elements ko reverse order mein arrange karta hai.\n",
        "\n",
        "**`Copy():`**"
      ],
      "metadata": {
        "id": "s59WpC8duZFa"
      }
    },
    {
      "cell_type": "markdown",
      "source": [
        "### Append"
      ],
      "metadata": {
        "id": "RA_zYLdn7-yz"
      }
    },
    {
      "cell_type": "code",
      "source": [
        "# Append\n",
        "students = [\"Talha\", \"Sundar\", \"Asim\", \"Asad\", \"Rehan\", \"Ali\", \"Zaid\", \"Shehzad\"]\n",
        "print(students.append(\"Noman\"))\n",
        "students"
      ],
      "metadata": {
        "colab": {
          "base_uri": "https://localhost:8080/"
        },
        "id": "wFUQd4d_uWf_",
        "outputId": "764ba0f0-f5a7-454c-bb9a-48075875eb4c"
      },
      "execution_count": null,
      "outputs": [
        {
          "output_type": "stream",
          "name": "stdout",
          "text": [
            "None\n"
          ]
        },
        {
          "output_type": "execute_result",
          "data": {
            "text/plain": [
              "['Talha', 'Sundar', 'Asim', 'Asad', 'Rehan', 'Ali', 'Zaid', 'Shehzad', 'Noman']"
            ]
          },
          "metadata": {},
          "execution_count": 92
        }
      ]
    },
    {
      "cell_type": "markdown",
      "source": [
        "### Extend"
      ],
      "metadata": {
        "id": "AaTuQd7a8GSW"
      }
    },
    {
      "cell_type": "code",
      "source": [
        "# Extend\n",
        "students = [\"Talha\", \"Sundar\", \"Asim\", \"Asad\", \"Rehan\", \"Ali\", \"Zaid\", \"Shehzad\"]\n",
        "print(students.extend([\"Noman\", \"Ali\"]))\n",
        "students"
      ],
      "metadata": {
        "colab": {
          "base_uri": "https://localhost:8080/"
        },
        "id": "LZr2asjtyVBE",
        "outputId": "b0957ec9-06f8-46ae-a2a4-68b858f0f14a"
      },
      "execution_count": null,
      "outputs": [
        {
          "output_type": "stream",
          "name": "stdout",
          "text": [
            "None\n"
          ]
        },
        {
          "output_type": "execute_result",
          "data": {
            "text/plain": [
              "['Talha',\n",
              " 'Sundar',\n",
              " 'Asim',\n",
              " 'Asad',\n",
              " 'Rehan',\n",
              " 'Ali',\n",
              " 'Zaid',\n",
              " 'Shehzad',\n",
              " 'Noman',\n",
              " 'Ali']"
            ]
          },
          "metadata": {},
          "execution_count": 96
        }
      ]
    },
    {
      "cell_type": "markdown",
      "source": [
        "### Remove"
      ],
      "metadata": {
        "id": "XROa3LE38KoQ"
      }
    },
    {
      "cell_type": "code",
      "source": [
        "# Remove\n",
        "students = [\"Talha\", \"Sundar\", \"Asim\", \"Asad\", \"Rehan\", \"Ali\", \"Zaid\", \"Shehzad\"]\n",
        "print(students.remove(\"Zaid\"))\n",
        "students"
      ],
      "metadata": {
        "colab": {
          "base_uri": "https://localhost:8080/"
        },
        "id": "r3ETa-iky9rC",
        "outputId": "d32ee670-f550-4efd-9f60-bc356c4781c5"
      },
      "execution_count": null,
      "outputs": [
        {
          "output_type": "stream",
          "name": "stdout",
          "text": [
            "None\n"
          ]
        },
        {
          "output_type": "execute_result",
          "data": {
            "text/plain": [
              "['Talha', 'Sundar', 'Asim', 'Asad', 'Rehan', 'Ali', 'Shehzad']"
            ]
          },
          "metadata": {},
          "execution_count": 99
        }
      ]
    },
    {
      "cell_type": "markdown",
      "source": [
        "### Reverse"
      ],
      "metadata": {
        "id": "B7WR4H728ZVS"
      }
    },
    {
      "cell_type": "code",
      "source": [
        "# Reverse\n",
        "students = [\"Talha\", \"Sundar\", \"Asim\", \"Asad\", \"Rehan\", \"Ali\", \"Zaid\", \"Shehzad\"]\n",
        "print(students.reverse())\n",
        "print(students)"
      ],
      "metadata": {
        "colab": {
          "base_uri": "https://localhost:8080/"
        },
        "id": "E20PU9w3zY4x",
        "outputId": "af378ed3-7b1e-41bf-9fc2-cc901fff2c66"
      },
      "execution_count": null,
      "outputs": [
        {
          "output_type": "stream",
          "name": "stdout",
          "text": [
            "None\n",
            "['Shehzad', 'Zaid', 'Ali', 'Rehan', 'Asad', 'Asim', 'Sundar', 'Talha']\n"
          ]
        }
      ]
    },
    {
      "cell_type": "markdown",
      "source": [
        "### Clear"
      ],
      "metadata": {
        "id": "v9m9Cl9v8dAd"
      }
    },
    {
      "cell_type": "code",
      "source": [
        "# Clear\n",
        "students = [\"Talha\", \"Sundar\", \"Asim\", \"Asad\", \"Rehan\", \"Ali\", \"Zaid\", \"Shehzad\"]\n",
        "print(students.clear())\n",
        "students"
      ],
      "metadata": {
        "colab": {
          "base_uri": "https://localhost:8080/"
        },
        "id": "s3DQBArAznhC",
        "outputId": "4e7538bc-890a-4f41-af7f-5a0833527081"
      },
      "execution_count": null,
      "outputs": [
        {
          "output_type": "stream",
          "name": "stdout",
          "text": [
            "None\n"
          ]
        },
        {
          "output_type": "execute_result",
          "data": {
            "text/plain": [
              "[]"
            ]
          },
          "metadata": {},
          "execution_count": 102
        }
      ]
    },
    {
      "cell_type": "markdown",
      "source": [
        "### Insert"
      ],
      "metadata": {
        "id": "IBhAQ3KB8f6q"
      }
    },
    {
      "cell_type": "code",
      "source": [
        "# Insert\n",
        "students = [\"Talha\", \"Sundar\", \"Asim\", \"Asad\", \"Rehan\", \"Ali\", \"Zaid\", \"Shehzad\"]\n",
        "print(students.insert(2, \"Noman\"))\n",
        "students"
      ],
      "metadata": {
        "colab": {
          "base_uri": "https://localhost:8080/"
        },
        "id": "rsTo420Hz2VE",
        "outputId": "fb04d625-ab62-4041-d825-018b26ce5ba5"
      },
      "execution_count": null,
      "outputs": [
        {
          "output_type": "stream",
          "name": "stdout",
          "text": [
            "None\n"
          ]
        },
        {
          "output_type": "execute_result",
          "data": {
            "text/plain": [
              "['Talha', 'Sundar', 'Noman', 'Asim', 'Asad', 'Rehan', 'Ali', 'Zaid', 'Shehzad']"
            ]
          },
          "metadata": {},
          "execution_count": 107
        }
      ]
    },
    {
      "cell_type": "markdown",
      "source": [
        "### Pop"
      ],
      "metadata": {
        "id": "AFG2s9kw8iSF"
      }
    },
    {
      "cell_type": "code",
      "source": [
        "# Pop\n",
        "students = [\"Talha\", \"Sundar\", \"Asim\", \"Asad\", \"Rehan\", \"Ali\", \"Zaid\", \"Shehzad\"]\n",
        "print(students.pop(-2))\n",
        "print(students.pop(3))\n",
        "students"
      ],
      "metadata": {
        "colab": {
          "base_uri": "https://localhost:8080/"
        },
        "id": "IPIxOFQX0cTl",
        "outputId": "2f4b9801-3acb-41fc-b6a3-bf5710e44912"
      },
      "execution_count": null,
      "outputs": [
        {
          "output_type": "stream",
          "name": "stdout",
          "text": [
            "Zaid\n",
            "Asad\n"
          ]
        },
        {
          "output_type": "execute_result",
          "data": {
            "text/plain": [
              "['Talha', 'Sundar', 'Asim', 'Rehan', 'Ali', 'Shehzad']"
            ]
          },
          "metadata": {},
          "execution_count": 112
        }
      ]
    },
    {
      "cell_type": "markdown",
      "source": [
        "### Count"
      ],
      "metadata": {
        "id": "UMmRLHbe8mF5"
      }
    },
    {
      "cell_type": "code",
      "source": [
        "# Count\n",
        "students = [\"Talha\", \"Sundar\", \"Asim\", \"Asad\", \"Rehan\", \"Ali\", \"Zaid\", \"Shehzad\"]\n",
        "print(students.count(\"Ali\"))"
      ],
      "metadata": {
        "colab": {
          "base_uri": "https://localhost:8080/"
        },
        "id": "GYi_OCtw4ecT",
        "outputId": "9d166391-8d71-4ea4-ec64-9b53a710c14c"
      },
      "execution_count": null,
      "outputs": [
        {
          "output_type": "stream",
          "name": "stdout",
          "text": [
            "1\n"
          ]
        }
      ]
    },
    {
      "cell_type": "markdown",
      "source": [
        "### Index"
      ],
      "metadata": {
        "id": "Qd_LecEh8phR"
      }
    },
    {
      "cell_type": "code",
      "source": [
        "# Index\n",
        "students = [\"Talha\", \"Sundar\", \"Asim\", \"Asad\", \"Rehan\", \"Ali\", \"Zaid\", \"Shehzad\"]\n",
        "print(students.index(\"Ali\"))"
      ],
      "metadata": {
        "colab": {
          "base_uri": "https://localhost:8080/"
        },
        "id": "gWysgcge4pzs",
        "outputId": "34dc7d92-bc62-4842-f5ef-de486bc44851"
      },
      "execution_count": null,
      "outputs": [
        {
          "output_type": "stream",
          "name": "stdout",
          "text": [
            "5\n"
          ]
        }
      ]
    },
    {
      "cell_type": "markdown",
      "source": [
        "### Sort"
      ],
      "metadata": {
        "id": "z0nN8Gx08s5o"
      }
    },
    {
      "cell_type": "code",
      "source": [
        "# Sort\n",
        "students = [\"Talha\", \"Sundar\", \"Asim\", \"Asad\", \"Rehan\", \"Ali\", \"Zaid\", \"Shehzad\"]\n",
        "print(students.sort())\n",
        "print(students)\n",
        "print(students.sort(reverse=True))\n",
        "print(students)"
      ],
      "metadata": {
        "colab": {
          "base_uri": "https://localhost:8080/"
        },
        "id": "cDfhhDFj4vtz",
        "outputId": "814c0e0b-a325-4198-d323-7c89a6b8b536"
      },
      "execution_count": null,
      "outputs": [
        {
          "output_type": "stream",
          "name": "stdout",
          "text": [
            "None\n",
            "['Ali', 'Asad', 'Asim', 'Rehan', 'Shehzad', 'Sundar', 'Talha', 'Zaid']\n",
            "None\n",
            "['Zaid', 'Talha', 'Sundar', 'Shehzad', 'Rehan', 'Asim', 'Asad', 'Ali']\n"
          ]
        }
      ]
    },
    {
      "cell_type": "markdown",
      "source": [
        "### Len"
      ],
      "metadata": {
        "id": "yhiyiniB8yRF"
      }
    },
    {
      "cell_type": "code",
      "source": [
        "students = [\"Talha\", \"Sundar\", \"Asim\", \"Asad\", \"Rehan\", \"Ali\", \"Zaid\", \"Shehzad\"]\n",
        "print(len(students))"
      ],
      "metadata": {
        "colab": {
          "base_uri": "https://localhost:8080/"
        },
        "id": "VOi2jEBr7fwy",
        "outputId": "73f6ef1d-9b39-455d-8269-7a241362213e"
      },
      "execution_count": null,
      "outputs": [
        {
          "output_type": "stream",
          "name": "stdout",
          "text": [
            "8\n"
          ]
        }
      ]
    },
    {
      "cell_type": "code",
      "source": [
        "capt = \"LongLivePakistan\"\n",
        "print(type(capt))\n",
        "print(capt)\n",
        "capt1 = list(capt)\n",
        "print(capt1)"
      ],
      "metadata": {
        "colab": {
          "base_uri": "https://localhost:8080/"
        },
        "id": "zxWX09iv6xsL",
        "outputId": "6e1e866c-1709-4063-af09-c7e846ccf934"
      },
      "execution_count": null,
      "outputs": [
        {
          "output_type": "stream",
          "name": "stdout",
          "text": [
            "<class 'str'>\n",
            "LongLivePakistan\n",
            "['L', 'o', 'n', 'g', 'L', 'i', 'v', 'e', 'P', 'a', 'k', 'i', 's', 't', 'a', 'n']\n"
          ]
        }
      ]
    },
    {
      "cell_type": "code",
      "source": [
        "capt = \"LongLivePakistan\"\n",
        "print(type(capt))\n",
        "print(capt.partition(\"Live\"))\n",
        "capt1 = list[capt]\n",
        "print(type(capt1))\n",
        "print(capt1)"
      ],
      "metadata": {
        "colab": {
          "base_uri": "https://localhost:8080/"
        },
        "id": "8oZszZzZ5aIY",
        "outputId": "d30b8d8c-d203-4f98-b513-63b494849993"
      },
      "execution_count": null,
      "outputs": [
        {
          "output_type": "stream",
          "name": "stdout",
          "text": [
            "<class 'str'>\n",
            "('Long', 'Live', 'Pakistan')\n",
            "<class 'types.GenericAlias'>\n",
            "list['LongLivePakistan']\n"
          ]
        }
      ]
    }
  ],
  "metadata": {
    "colab": {
      "provenance": [],
      "toc_visible": true,
      "authorship_tag": "ABX9TyOz0JmbgloR+nTwPhDaQzfo",
      "include_colab_link": true
    },
    "kernelspec": {
      "display_name": "Python 3",
      "name": "python3"
    },
    "language_info": {
      "name": "python"
    }
  },
  "nbformat": 4,
  "nbformat_minor": 0
}